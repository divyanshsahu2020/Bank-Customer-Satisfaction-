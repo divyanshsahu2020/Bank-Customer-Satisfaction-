{
 "cells": [
  {
   "cell_type": "code",
   "execution_count": 7,
   "id": "cfec81c9",
   "metadata": {},
   "outputs": [],
   "source": [
    "# 1=exited 0=not exited"
   ]
  },
  {
   "cell_type": "markdown",
   "id": "7a5e2752",
   "metadata": {},
   "source": [
    "Importing the libraries"
   ]
  },
  {
   "cell_type": "code",
   "execution_count": 8,
   "id": "a2ac80f6",
   "metadata": {},
   "outputs": [],
   "source": [
    "import numpy as np\n",
    "import pandas as pd\n",
    "import tensorflow as tf"
   ]
  },
  {
   "cell_type": "code",
   "execution_count": 9,
   "id": "7e30f6da",
   "metadata": {},
   "outputs": [
    {
     "data": {
      "text/plain": [
       "'2.11.0'"
      ]
     },
     "execution_count": 9,
     "metadata": {},
     "output_type": "execute_result"
    }
   ],
   "source": [
    "tf.__version__"
   ]
  },
  {
   "cell_type": "markdown",
   "id": "2f1d46c4",
   "metadata": {},
   "source": [
    "# Data Pre-processing"
   ]
  },
  {
   "cell_type": "markdown",
   "id": "c077203d",
   "metadata": {},
   "source": [
    "Importing the data set"
   ]
  },
  {
   "cell_type": "code",
   "execution_count": 11,
   "id": "6e38fbfc",
   "metadata": {},
   "outputs": [],
   "source": [
    "dataset=pd.read_csv('Churn_Modelling.csv ')\n",
    "X=dataset.iloc[:,3:-1].values\n",
    "y=dataset.iloc[:,-1].values"
   ]
  },
  {
   "cell_type": "code",
   "execution_count": 12,
   "id": "ed2f1bf0",
   "metadata": {},
   "outputs": [
    {
     "name": "stdout",
     "output_type": "stream",
     "text": [
      "[[619 'France' 'Female' ... 1 1 101348.88]\n",
      " [608 'Spain' 'Female' ... 0 1 112542.58]\n",
      " [502 'France' 'Female' ... 1 0 113931.57]\n",
      " ...\n",
      " [709 'France' 'Female' ... 0 1 42085.58]\n",
      " [772 'Germany' 'Male' ... 1 0 92888.52]\n",
      " [792 'France' 'Female' ... 1 0 38190.78]]\n"
     ]
    }
   ],
   "source": [
    "print(X)"
   ]
  },
  {
   "cell_type": "code",
   "execution_count": 13,
   "id": "f84e64c2",
   "metadata": {},
   "outputs": [
    {
     "name": "stdout",
     "output_type": "stream",
     "text": [
      "[1 0 1 ... 1 1 0]\n"
     ]
    }
   ],
   "source": [
    "print(y)"
   ]
  },
  {
   "cell_type": "markdown",
   "id": "95b1cc56",
   "metadata": {},
   "source": [
    "Encoding Categorical data"
   ]
  },
  {
   "cell_type": "code",
   "execution_count": 16,
   "id": "29090f41",
   "metadata": {},
   "outputs": [],
   "source": [
    "# Label Encoding of Gender\n",
    "from sklearn.preprocessing import LabelEncoder\n",
    "le=LabelEncoder()\n",
    "X[:,2]=le.fit_transform(X[:,2])"
   ]
  },
  {
   "cell_type": "code",
   "execution_count": 17,
   "id": "962d2286",
   "metadata": {},
   "outputs": [
    {
     "name": "stdout",
     "output_type": "stream",
     "text": [
      "[[619 'France' 0 ... 1 1 101348.88]\n",
      " [608 'Spain' 0 ... 0 1 112542.58]\n",
      " [502 'France' 0 ... 1 0 113931.57]\n",
      " ...\n",
      " [709 'France' 0 ... 0 1 42085.58]\n",
      " [772 'Germany' 1 ... 1 0 92888.52]\n",
      " [792 'France' 0 ... 1 0 38190.78]]\n"
     ]
    }
   ],
   "source": [
    "print(X)"
   ]
  },
  {
   "cell_type": "code",
   "execution_count": 18,
   "id": "1482e5bf",
   "metadata": {},
   "outputs": [],
   "source": [
    "# One hot encoding the \"Geography column\n",
    "from sklearn.compose import ColumnTransformer\n",
    "from sklearn.preprocessing import OneHotEncoder\n",
    "ct=ColumnTransformer(transformers=[('encoder', OneHotEncoder(), [1])], remainder='passthrough')\n",
    "X=np.array(ct.fit_transform(X))"
   ]
  },
  {
   "cell_type": "code",
   "execution_count": 19,
   "id": "c842ab2e",
   "metadata": {},
   "outputs": [
    {
     "name": "stdout",
     "output_type": "stream",
     "text": [
      "[[1.0 0.0 0.0 ... 1 1 101348.88]\n",
      " [0.0 0.0 1.0 ... 0 1 112542.58]\n",
      " [1.0 0.0 0.0 ... 1 0 113931.57]\n",
      " ...\n",
      " [1.0 0.0 0.0 ... 0 1 42085.58]\n",
      " [0.0 1.0 0.0 ... 1 0 92888.52]\n",
      " [1.0 0.0 0.0 ... 1 0 38190.78]]\n"
     ]
    }
   ],
   "source": [
    "print(X)"
   ]
  },
  {
   "cell_type": "markdown",
   "id": "13bc8ec6",
   "metadata": {},
   "source": [
    "Splitting the dataset into the training set and test set"
   ]
  },
  {
   "cell_type": "code",
   "execution_count": 20,
   "id": "412f0411",
   "metadata": {},
   "outputs": [],
   "source": [
    "from sklearn.model_selection import train_test_split\n",
    "X_train, X_test, y_train, y_test = train_test_split(X,y, test_size=0.2, random_state=0)"
   ]
  },
  {
   "cell_type": "markdown",
   "id": "3df2b3c4",
   "metadata": {},
   "source": [
    "Feature Scaling"
   ]
  },
  {
   "cell_type": "code",
   "execution_count": 21,
   "id": "ab02aeef",
   "metadata": {},
   "outputs": [],
   "source": [
    "# feature scaling is compulsory for deep learning\n",
    "from sklearn.preprocessing import StandardScaler\n",
    "sc=StandardScaler()\n",
    "X_train=sc.fit_transform(X_train)\n",
    "X_test=sc.fit_transform(X_test)"
   ]
  },
  {
   "cell_type": "markdown",
   "id": "3366bf9c",
   "metadata": {},
   "source": [
    "# Building the ANN"
   ]
  },
  {
   "cell_type": "markdown",
   "id": "c684025e",
   "metadata": {},
   "source": [
    "Initialize the ANN"
   ]
  },
  {
   "cell_type": "code",
   "execution_count": 22,
   "id": "83a851c1",
   "metadata": {},
   "outputs": [],
   "source": [
    "ann= tf.keras.models.Sequential()"
   ]
  },
  {
   "cell_type": "markdown",
   "id": "0510b9a2",
   "metadata": {},
   "source": [
    " Adding the input layer and the first hidden layer"
   ]
  },
  {
   "cell_type": "code",
   "execution_count": 23,
   "id": "3e36235c",
   "metadata": {},
   "outputs": [],
   "source": [
    "ann.add(tf.keras.layers.Dense(units=6, activation='relu'))"
   ]
  },
  {
   "cell_type": "markdown",
   "id": "b4ab3a4c",
   "metadata": {},
   "source": [
    "Adding Second hidden layer"
   ]
  },
  {
   "cell_type": "code",
   "execution_count": 24,
   "id": "71de901e",
   "metadata": {},
   "outputs": [],
   "source": [
    "ann.add(tf.keras.layers.Dense(units=6, activation='relu')) "
   ]
  },
  {
   "cell_type": "markdown",
   "id": "8c569124",
   "metadata": {},
   "source": [
    "Adding the output layer"
   ]
  },
  {
   "cell_type": "code",
   "execution_count": 25,
   "id": "0f60add2",
   "metadata": {},
   "outputs": [],
   "source": [
    "ann.add(tf.keras.layers.Dense(units=1, activation='sigmoid'))"
   ]
  },
  {
   "cell_type": "markdown",
   "id": "ecd7c1cb",
   "metadata": {},
   "source": [
    "# Training the ANN"
   ]
  },
  {
   "cell_type": "markdown",
   "id": "b2467af5",
   "metadata": {},
   "source": [
    "Compiling the ANN"
   ]
  },
  {
   "cell_type": "code",
   "execution_count": 26,
   "id": "be11205e",
   "metadata": {},
   "outputs": [],
   "source": [
    "ann.compile(optimizer='adam', loss='binary_crossentropy', metrics=['accuracy'])"
   ]
  },
  {
   "cell_type": "markdown",
   "id": "55fe0524",
   "metadata": {},
   "source": [
    "Training the ANN on the training set"
   ]
  },
  {
   "cell_type": "code",
   "execution_count": 27,
   "id": "792a8c14",
   "metadata": {},
   "outputs": [
    {
     "name": "stdout",
     "output_type": "stream",
     "text": [
      "Epoch 1/100\n",
      "250/250 [==============================] - 1s 1ms/step - loss: 0.5438 - accuracy: 0.7707\n",
      "Epoch 2/100\n",
      "250/250 [==============================] - 0s 1ms/step - loss: 0.4772 - accuracy: 0.7964\n",
      "Epoch 3/100\n",
      "250/250 [==============================] - 0s 1ms/step - loss: 0.4514 - accuracy: 0.7972\n",
      "Epoch 4/100\n",
      "250/250 [==============================] - 0s 987us/step - loss: 0.4354 - accuracy: 0.8008\n",
      "Epoch 5/100\n",
      "250/250 [==============================] - 0s 989us/step - loss: 0.4238 - accuracy: 0.8060\n",
      "Epoch 6/100\n",
      "250/250 [==============================] - 0s 1ms/step - loss: 0.4134 - accuracy: 0.8120\n",
      "Epoch 7/100\n",
      "250/250 [==============================] - 0s 996us/step - loss: 0.4020 - accuracy: 0.8224\n",
      "Epoch 8/100\n",
      "250/250 [==============================] - 0s 983us/step - loss: 0.3914 - accuracy: 0.8313\n",
      "Epoch 9/100\n",
      "250/250 [==============================] - 0s 1ms/step - loss: 0.3815 - accuracy: 0.8399\n",
      "Epoch 10/100\n",
      "250/250 [==============================] - 0s 1ms/step - loss: 0.3747 - accuracy: 0.8459\n",
      "Epoch 11/100\n",
      "250/250 [==============================] - 0s 964us/step - loss: 0.3680 - accuracy: 0.8494\n",
      "Epoch 12/100\n",
      "250/250 [==============================] - 0s 993us/step - loss: 0.3623 - accuracy: 0.8524\n",
      "Epoch 13/100\n",
      "250/250 [==============================] - 0s 964us/step - loss: 0.3580 - accuracy: 0.8562\n",
      "Epoch 14/100\n",
      "250/250 [==============================] - 0s 995us/step - loss: 0.3543 - accuracy: 0.8585\n",
      "Epoch 15/100\n",
      "250/250 [==============================] - 0s 981us/step - loss: 0.3512 - accuracy: 0.8590\n",
      "Epoch 16/100\n",
      "250/250 [==============================] - 0s 1ms/step - loss: 0.3488 - accuracy: 0.8566\n",
      "Epoch 17/100\n",
      "250/250 [==============================] - 0s 986us/step - loss: 0.3474 - accuracy: 0.8574\n",
      "Epoch 18/100\n",
      "250/250 [==============================] - 0s 1ms/step - loss: 0.3463 - accuracy: 0.8612\n",
      "Epoch 19/100\n",
      "250/250 [==============================] - 0s 997us/step - loss: 0.3453 - accuracy: 0.8606\n",
      "Epoch 20/100\n",
      "250/250 [==============================] - 0s 974us/step - loss: 0.3447 - accuracy: 0.8606\n",
      "Epoch 21/100\n",
      "250/250 [==============================] - 0s 1ms/step - loss: 0.3440 - accuracy: 0.8593\n",
      "Epoch 22/100\n",
      "250/250 [==============================] - 0s 1ms/step - loss: 0.3432 - accuracy: 0.8611\n",
      "Epoch 23/100\n",
      "250/250 [==============================] - 0s 1ms/step - loss: 0.3427 - accuracy: 0.8608\n",
      "Epoch 24/100\n",
      "250/250 [==============================] - 0s 1ms/step - loss: 0.3424 - accuracy: 0.8621\n",
      "Epoch 25/100\n",
      "250/250 [==============================] - 0s 1ms/step - loss: 0.3412 - accuracy: 0.8605\n",
      "Epoch 26/100\n",
      "250/250 [==============================] - 0s 1ms/step - loss: 0.3411 - accuracy: 0.8610\n",
      "Epoch 27/100\n",
      "250/250 [==============================] - 0s 1ms/step - loss: 0.3406 - accuracy: 0.8629\n",
      "Epoch 28/100\n",
      "250/250 [==============================] - 0s 922us/step - loss: 0.3404 - accuracy: 0.8625\n",
      "Epoch 29/100\n",
      "250/250 [==============================] - 0s 991us/step - loss: 0.3395 - accuracy: 0.8609\n",
      "Epoch 30/100\n",
      "250/250 [==============================] - 0s 1000us/step - loss: 0.3391 - accuracy: 0.8626\n",
      "Epoch 31/100\n",
      "250/250 [==============================] - 0s 976us/step - loss: 0.3394 - accuracy: 0.8618\n",
      "Epoch 32/100\n",
      "250/250 [==============================] - 0s 967us/step - loss: 0.3386 - accuracy: 0.8610\n",
      "Epoch 33/100\n",
      "250/250 [==============================] - 0s 980us/step - loss: 0.3384 - accuracy: 0.8629\n",
      "Epoch 34/100\n",
      "250/250 [==============================] - 0s 1ms/step - loss: 0.3376 - accuracy: 0.8606\n",
      "Epoch 35/100\n",
      "250/250 [==============================] - 0s 1ms/step - loss: 0.3381 - accuracy: 0.8625\n",
      "Epoch 36/100\n",
      "250/250 [==============================] - 0s 1ms/step - loss: 0.3378 - accuracy: 0.8612\n",
      "Epoch 37/100\n",
      "250/250 [==============================] - 0s 989us/step - loss: 0.3375 - accuracy: 0.8619\n",
      "Epoch 38/100\n",
      "250/250 [==============================] - 0s 1ms/step - loss: 0.3379 - accuracy: 0.8625\n",
      "Epoch 39/100\n",
      "250/250 [==============================] - 0s 989us/step - loss: 0.3366 - accuracy: 0.8618\n",
      "Epoch 40/100\n",
      "250/250 [==============================] - 0s 1ms/step - loss: 0.3369 - accuracy: 0.8630\n",
      "Epoch 41/100\n",
      "250/250 [==============================] - 0s 991us/step - loss: 0.3365 - accuracy: 0.8627\n",
      "Epoch 42/100\n",
      "250/250 [==============================] - 0s 1ms/step - loss: 0.3365 - accuracy: 0.8630\n",
      "Epoch 43/100\n",
      "250/250 [==============================] - 0s 1ms/step - loss: 0.3364 - accuracy: 0.8616\n",
      "Epoch 44/100\n",
      "250/250 [==============================] - 0s 1ms/step - loss: 0.3358 - accuracy: 0.8637\n",
      "Epoch 45/100\n",
      "250/250 [==============================] - 0s 992us/step - loss: 0.3360 - accuracy: 0.8624\n",
      "Epoch 46/100\n",
      "250/250 [==============================] - 0s 1ms/step - loss: 0.3360 - accuracy: 0.8627\n",
      "Epoch 47/100\n",
      "250/250 [==============================] - 0s 989us/step - loss: 0.3357 - accuracy: 0.8622\n",
      "Epoch 48/100\n",
      "250/250 [==============================] - 0s 1ms/step - loss: 0.3357 - accuracy: 0.8622\n",
      "Epoch 49/100\n",
      "250/250 [==============================] - 0s 992us/step - loss: 0.3357 - accuracy: 0.8624\n",
      "Epoch 50/100\n",
      "250/250 [==============================] - 0s 937us/step - loss: 0.3355 - accuracy: 0.8634\n",
      "Epoch 51/100\n",
      "250/250 [==============================] - 0s 1ms/step - loss: 0.3354 - accuracy: 0.8619\n",
      "Epoch 52/100\n",
      "250/250 [==============================] - 0s 1ms/step - loss: 0.3353 - accuracy: 0.8633\n",
      "Epoch 53/100\n",
      "250/250 [==============================] - 0s 945us/step - loss: 0.3354 - accuracy: 0.8622\n",
      "Epoch 54/100\n",
      "250/250 [==============================] - 0s 971us/step - loss: 0.3353 - accuracy: 0.8622\n",
      "Epoch 55/100\n",
      "250/250 [==============================] - 0s 1ms/step - loss: 0.3352 - accuracy: 0.8625\n",
      "Epoch 56/100\n",
      "250/250 [==============================] - 0s 1ms/step - loss: 0.3348 - accuracy: 0.8630\n",
      "Epoch 57/100\n",
      "250/250 [==============================] - 0s 1ms/step - loss: 0.3346 - accuracy: 0.8627\n",
      "Epoch 58/100\n",
      "250/250 [==============================] - 0s 1ms/step - loss: 0.3346 - accuracy: 0.8618\n",
      "Epoch 59/100\n",
      "250/250 [==============================] - 0s 922us/step - loss: 0.3350 - accuracy: 0.8616\n",
      "Epoch 60/100\n",
      "250/250 [==============================] - 0s 1ms/step - loss: 0.3347 - accuracy: 0.8631\n",
      "Epoch 61/100\n",
      "250/250 [==============================] - 0s 1ms/step - loss: 0.3348 - accuracy: 0.8626\n",
      "Epoch 62/100\n",
      "250/250 [==============================] - 0s 2ms/step - loss: 0.3345 - accuracy: 0.8629\n",
      "Epoch 63/100\n",
      "250/250 [==============================] - 0s 2ms/step - loss: 0.3340 - accuracy: 0.8648\n",
      "Epoch 64/100\n",
      "250/250 [==============================] - 0s 1ms/step - loss: 0.3342 - accuracy: 0.8634\n",
      "Epoch 65/100\n",
      "250/250 [==============================] - 0s 1ms/step - loss: 0.3343 - accuracy: 0.8640\n",
      "Epoch 66/100\n",
      "250/250 [==============================] - 0s 1ms/step - loss: 0.3345 - accuracy: 0.8641\n",
      "Epoch 67/100\n",
      "250/250 [==============================] - 0s 1ms/step - loss: 0.3347 - accuracy: 0.8641\n",
      "Epoch 68/100\n",
      "250/250 [==============================] - 0s 1ms/step - loss: 0.3344 - accuracy: 0.8639\n",
      "Epoch 69/100\n",
      "250/250 [==============================] - 0s 1ms/step - loss: 0.3340 - accuracy: 0.8629\n",
      "Epoch 70/100\n",
      "250/250 [==============================] - 0s 975us/step - loss: 0.3339 - accuracy: 0.8634\n",
      "Epoch 71/100\n",
      "250/250 [==============================] - 0s 974us/step - loss: 0.3341 - accuracy: 0.8631\n",
      "Epoch 72/100\n",
      "250/250 [==============================] - 0s 1ms/step - loss: 0.3342 - accuracy: 0.8640\n",
      "Epoch 73/100\n",
      "250/250 [==============================] - 0s 981us/step - loss: 0.3338 - accuracy: 0.8646\n",
      "Epoch 74/100\n",
      "250/250 [==============================] - 0s 984us/step - loss: 0.3339 - accuracy: 0.8643\n",
      "Epoch 75/100\n",
      "250/250 [==============================] - 0s 1ms/step - loss: 0.3340 - accuracy: 0.8639\n",
      "Epoch 76/100\n",
      "250/250 [==============================] - 0s 1ms/step - loss: 0.3336 - accuracy: 0.8630\n",
      "Epoch 77/100\n",
      "250/250 [==============================] - 0s 963us/step - loss: 0.3338 - accuracy: 0.8639\n",
      "Epoch 78/100\n",
      "250/250 [==============================] - 0s 1ms/step - loss: 0.3339 - accuracy: 0.8634\n",
      "Epoch 79/100\n",
      "250/250 [==============================] - 0s 965us/step - loss: 0.3340 - accuracy: 0.8624\n",
      "Epoch 80/100\n"
     ]
    },
    {
     "name": "stdout",
     "output_type": "stream",
     "text": [
      "250/250 [==============================] - 0s 958us/step - loss: 0.3332 - accuracy: 0.8644\n",
      "Epoch 81/100\n",
      "250/250 [==============================] - 0s 956us/step - loss: 0.3336 - accuracy: 0.8625\n",
      "Epoch 82/100\n",
      "250/250 [==============================] - 0s 959us/step - loss: 0.3337 - accuracy: 0.8637\n",
      "Epoch 83/100\n",
      "250/250 [==============================] - 0s 985us/step - loss: 0.3331 - accuracy: 0.8652\n",
      "Epoch 84/100\n",
      "250/250 [==============================] - 0s 1ms/step - loss: 0.3335 - accuracy: 0.8634\n",
      "Epoch 85/100\n",
      "250/250 [==============================] - 0s 1ms/step - loss: 0.3334 - accuracy: 0.8634\n",
      "Epoch 86/100\n",
      "250/250 [==============================] - 0s 1ms/step - loss: 0.3331 - accuracy: 0.8635\n",
      "Epoch 87/100\n",
      "250/250 [==============================] - 0s 980us/step - loss: 0.3331 - accuracy: 0.8629\n",
      "Epoch 88/100\n",
      "250/250 [==============================] - 0s 976us/step - loss: 0.3332 - accuracy: 0.8625\n",
      "Epoch 89/100\n",
      "250/250 [==============================] - 0s 977us/step - loss: 0.3329 - accuracy: 0.8627\n",
      "Epoch 90/100\n",
      "250/250 [==============================] - 0s 980us/step - loss: 0.3327 - accuracy: 0.8648\n",
      "Epoch 91/100\n",
      "250/250 [==============================] - 0s 973us/step - loss: 0.3333 - accuracy: 0.8637\n",
      "Epoch 92/100\n",
      "250/250 [==============================] - 0s 1ms/step - loss: 0.3329 - accuracy: 0.8629\n",
      "Epoch 93/100\n",
      "250/250 [==============================] - 0s 1ms/step - loss: 0.3330 - accuracy: 0.8618\n",
      "Epoch 94/100\n",
      "250/250 [==============================] - 0s 1ms/step - loss: 0.3327 - accuracy: 0.8622\n",
      "Epoch 95/100\n",
      "250/250 [==============================] - 0s 980us/step - loss: 0.3331 - accuracy: 0.8621\n",
      "Epoch 96/100\n",
      "250/250 [==============================] - 0s 973us/step - loss: 0.3326 - accuracy: 0.8644\n",
      "Epoch 97/100\n",
      "250/250 [==============================] - 0s 992us/step - loss: 0.3331 - accuracy: 0.8637\n",
      "Epoch 98/100\n",
      "250/250 [==============================] - 0s 985us/step - loss: 0.3329 - accuracy: 0.8620\n",
      "Epoch 99/100\n",
      "250/250 [==============================] - 0s 981us/step - loss: 0.3333 - accuracy: 0.8646\n",
      "Epoch 100/100\n",
      "250/250 [==============================] - 0s 996us/step - loss: 0.3328 - accuracy: 0.8634\n"
     ]
    },
    {
     "data": {
      "text/plain": [
       "<keras.callbacks.History at 0x1d20289e280>"
      ]
     },
     "execution_count": 27,
     "metadata": {},
     "output_type": "execute_result"
    }
   ],
   "source": [
    "ann.fit(X_train, y_train, batch_size= 32, epochs=100)"
   ]
  },
  {
   "cell_type": "markdown",
   "id": "1402baf0",
   "metadata": {},
   "source": [
    "# Making the prediction and evaluating the model"
   ]
  },
  {
   "cell_type": "markdown",
   "id": "019bd14b",
   "metadata": {},
   "source": [
    " Predicting the result of a single observation"
   ]
  },
  {
   "cell_type": "raw",
   "id": "11feaced",
   "metadata": {},
   "source": [
    "Geopgraphy - France\n",
    "Credit score-600\n",
    "Gender - Male\n",
    "Age - 40 years old\n",
    "Tenure - 3 years\n",
    "Balance - $ 60000\n",
    "Number of Products - 2\n",
    "Does this customer have a credit card? Yes\n",
    "active member - yes\n",
    "estimated salary - $50000\n",
    "Does the customer leave or not?"
   ]
  },
  {
   "cell_type": "code",
   "execution_count": 32,
   "id": "40d9e214",
   "metadata": {},
   "outputs": [
    {
     "name": "stdout",
     "output_type": "stream",
     "text": [
      "1/1 [==============================] - 0s 19ms/step\n",
      "[[0.03507141]]\n",
      "1/1 [==============================] - 0s 17ms/step\n",
      "[[False]]\n"
     ]
    }
   ],
   "source": [
    "print(ann.predict(sc.transform([[1,0,0, 600, 1, 40, 3, 60000, 2, 1, 1, 50000]])))\n",
    "print(ann.predict(sc.transform([[1,0,0, 600, 1, 40, 3, 60000, 2, 1, 1, 50000]]))>0.5)"
   ]
  },
  {
   "cell_type": "markdown",
   "id": "af693815",
   "metadata": {},
   "source": [
    "Predicting the test set results"
   ]
  },
  {
   "cell_type": "code",
   "execution_count": 33,
   "id": "3e2c3cbd",
   "metadata": {},
   "outputs": [
    {
     "name": "stdout",
     "output_type": "stream",
     "text": [
      "63/63 [==============================] - 0s 804us/step\n",
      "[[0 0]\n",
      " [0 1]\n",
      " [0 0]\n",
      " ...\n",
      " [0 0]\n",
      " [0 0]\n",
      " [0 0]]\n"
     ]
    }
   ],
   "source": [
    "y_pred=ann.predict(X_test)\n",
    "y_pred=(y_pred>0.5)\n",
    "print(np.concatenate((y_pred.reshape(len(y_pred),1), y_test.reshape(len(y_test),1)),1))"
   ]
  },
  {
   "cell_type": "markdown",
   "id": "051ccbe9",
   "metadata": {},
   "source": [
    "Making confusion matrix"
   ]
  },
  {
   "cell_type": "code",
   "execution_count": 34,
   "id": "95fa7635",
   "metadata": {},
   "outputs": [
    {
     "name": "stdout",
     "output_type": "stream",
     "text": [
      "[[1518   77]\n",
      " [ 196  209]]\n"
     ]
    },
    {
     "data": {
      "text/plain": [
       "0.8635"
      ]
     },
     "execution_count": 34,
     "metadata": {},
     "output_type": "execute_result"
    }
   ],
   "source": [
    "from sklearn.metrics import confusion_matrix, accuracy_score\n",
    "cm= confusion_matrix(y_test, y_pred)\n",
    "print(cm)\n",
    "accuracy_score(y_test, y_pred)"
   ]
  },
  {
   "cell_type": "code",
   "execution_count": null,
   "id": "14243697",
   "metadata": {},
   "outputs": [],
   "source": []
  }
 ],
 "metadata": {
  "kernelspec": {
   "display_name": "Python 3",
   "language": "python",
   "name": "python3"
  },
  "language_info": {
   "codemirror_mode": {
    "name": "ipython",
    "version": 3
   },
   "file_extension": ".py",
   "mimetype": "text/x-python",
   "name": "python",
   "nbconvert_exporter": "python",
   "pygments_lexer": "ipython3",
   "version": "3.8.8"
  }
 },
 "nbformat": 4,
 "nbformat_minor": 5
}
